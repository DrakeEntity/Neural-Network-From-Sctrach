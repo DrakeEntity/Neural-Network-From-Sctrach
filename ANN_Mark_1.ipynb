{
  "nbformat": 4,
  "nbformat_minor": 0,
  "metadata": {
    "colab": {
      "name": "ANN Mark-1.ipynb",
      "provenance": [],
      "authorship_tag": "ABX9TyOcHW1Q/lkCJaQcxL7+rseR",
      "include_colab_link": true
    },
    "kernelspec": {
      "name": "python3",
      "display_name": "Python 3"
    }
  },
  "cells": [
    {
      "cell_type": "markdown",
      "metadata": {
        "id": "view-in-github",
        "colab_type": "text"
      },
      "source": [
        "<a href=\"https://colab.research.google.com/github/aayushi-droid/Neural-Network-From-Sctrach/blob/master/ANN_Mark_1.ipynb\" target=\"_parent\"><img src=\"https://colab.research.google.com/assets/colab-badge.svg\" alt=\"Open In Colab\"/></a>"
      ]
    },
    {
      "cell_type": "code",
      "metadata": {
        "id": "nivivGKj3QDi",
        "colab_type": "code",
        "colab": {}
      },
      "source": [
        "import numpy as np"
      ],
      "execution_count": 0,
      "outputs": []
    },
    {
      "cell_type": "code",
      "metadata": {
        "id": "bxauhXqA3g2E",
        "colab_type": "code",
        "colab": {}
      },
      "source": [
        "def sigmoid(x):\n",
        "  return 1 /(1+ np.exp(-x))"
      ],
      "execution_count": 0,
      "outputs": []
    },
    {
      "cell_type": "code",
      "metadata": {
        "id": "cuvv9HXTAuw3",
        "colab_type": "code",
        "colab": {}
      },
      "source": [
        "def sigmoid_derivative(x):\n",
        "  return x * (1-x)"
      ],
      "execution_count": 0,
      "outputs": []
    },
    {
      "cell_type": "code",
      "metadata": {
        "id": "baRNMxdU3ogx",
        "colab_type": "code",
        "colab": {}
      },
      "source": [
        "training_inputs = np.array([\n",
        "                            [0,0,1],\n",
        "                            [1,1,1],\n",
        "                            [1,0,1],\n",
        "                            [0,1,1]])"
      ],
      "execution_count": 0,
      "outputs": []
    },
    {
      "cell_type": "code",
      "metadata": {
        "id": "qL6n9k4p4OIQ",
        "colab_type": "code",
        "colab": {}
      },
      "source": [
        "training_outputs = np.array([[0,1,1,0]]).T"
      ],
      "execution_count": 0,
      "outputs": []
    },
    {
      "cell_type": "code",
      "metadata": {
        "id": "MTAKnet24Xh7",
        "colab_type": "code",
        "colab": {}
      },
      "source": [
        "np.random.seed(1)"
      ],
      "execution_count": 0,
      "outputs": []
    },
    {
      "cell_type": "code",
      "metadata": {
        "id": "UuN_UuZY4a_O",
        "colab_type": "code",
        "colab": {}
      },
      "source": [
        "synaptic_weights = 2 * np.random.random((3,1))-1"
      ],
      "execution_count": 0,
      "outputs": []
    },
    {
      "cell_type": "code",
      "metadata": {
        "id": "9J0IGhiv4ohz",
        "colab_type": "code",
        "colab": {
          "base_uri": "https://localhost:8080/",
          "height": 68
        },
        "outputId": "647a775d-a6dc-448e-8383-745c9482bdd4"
      },
      "source": [
        "print(f'Random starting synaptic weights :{synaptic_weights}')"
      ],
      "execution_count": 120,
      "outputs": [
        {
          "output_type": "stream",
          "text": [
            "Random starting synaptic weights :[[-0.16595599]\n",
            " [ 0.44064899]\n",
            " [-0.99977125]]\n"
          ],
          "name": "stdout"
        }
      ]
    },
    {
      "cell_type": "code",
      "metadata": {
        "id": "KelbncKV5Kh0",
        "colab_type": "code",
        "colab": {}
      },
      "source": [
        "for iteration in range(50000):\n",
        "  input_layer = training_inputs\n",
        "  outputs = sigmoid(np.dot(input_layer,synaptic_weights))\n",
        "  error = training_outputs - outputs\n",
        "  adjustments = error * sigmoid_derivative(outputs)\n",
        "  synaptic_weights  += np.dot(input_layer.T,adjustments)"
      ],
      "execution_count": 0,
      "outputs": []
    },
    {
      "cell_type": "code",
      "metadata": {
        "id": "PPaRdAVs51o4",
        "colab_type": "code",
        "colab": {
          "base_uri": "https://localhost:8080/",
          "height": 68
        },
        "outputId": "5655728e-f10d-4ae3-fb6c-567d6e563d23"
      },
      "source": [
        "print(f'synaptic weight after training: {synaptic_weights}')"
      ],
      "execution_count": 122,
      "outputs": [
        {
          "output_type": "stream",
          "text": [
            "synaptic weight after training: [[12.00870061]\n",
            " [-0.2044116 ]\n",
            " [-5.8002822 ]]\n"
          ],
          "name": "stdout"
        }
      ]
    },
    {
      "cell_type": "code",
      "metadata": {
        "id": "kuVp1QInD2ck",
        "colab_type": "code",
        "colab": {
          "base_uri": "https://localhost:8080/",
          "height": 85
        },
        "outputId": "22c17290-5b47-47c1-be56-604e832ed44b"
      },
      "source": [
        "for i in range(0,4):\n",
        "  print(f'Actural : {training_outputs[i]} - Predictions : {outputs[i]} Error : {error[i]}')"
      ],
      "execution_count": 123,
      "outputs": [
        {
          "output_type": "stream",
          "text": [
            "Actural : [0] - Predictions : [0.00301758] Error : [-0.00301758]\n",
            "Actural : [1] - Predictions : [0.99753723] Error : [0.00246277]\n",
            "Actural : [1] - Predictions : [0.99799161] Error : [0.00200839]\n",
            "Actural : [0] - Predictions : [0.00246109] Error : [-0.00246109]\n"
          ],
          "name": "stdout"
        }
      ]
    },
    {
      "cell_type": "code",
      "metadata": {
        "id": "G468EZqcFoix",
        "colab_type": "code",
        "colab": {}
      },
      "source": [
        ""
      ],
      "execution_count": 0,
      "outputs": []
    }
  ]
}