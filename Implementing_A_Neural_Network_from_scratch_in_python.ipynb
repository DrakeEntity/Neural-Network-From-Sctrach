{
  "nbformat": 4,
  "nbformat_minor": 0,
  "metadata": {
    "colab": {
      "name": "Implementing A Neural Network from scratch in python.ipynb",
      "provenance": [],
      "collapsed_sections": [],
      "authorship_tag": "ABX9TyNFSgOMeEcUM+SJrLNwna5l",
      "include_colab_link": true
    },
    "kernelspec": {
      "name": "python3",
      "display_name": "Python 3"
    }
  },
  "cells": [
    {
      "cell_type": "markdown",
      "metadata": {
        "id": "view-in-github",
        "colab_type": "text"
      },
      "source": [
        "<a href=\"https://colab.research.google.com/github/aayushi-droid/Neural-Network-From-Sctrach/blob/master/Implementing_A_Neural_Network_from_scratch_in_python.ipynb\" target=\"_parent\"><img src=\"https://colab.research.google.com/assets/colab-badge.svg\" alt=\"Open In Colab\"/></a>"
      ]
    },
    {
      "cell_type": "code",
      "metadata": {
        "id": "b48X19ANM7xv",
        "colab_type": "code",
        "colab": {}
      },
      "source": [
        "import numpy as np"
      ],
      "execution_count": 0,
      "outputs": []
    },
    {
      "cell_type": "code",
      "metadata": {
        "id": "IGaCGEr8M_og",
        "colab_type": "code",
        "colab": {
          "base_uri": "https://localhost:8080/",
          "height": 51
        },
        "outputId": "7f7d49f5-86ae-40cb-d0f3-7d170f6acc55"
      },
      "source": [
        "class Neural_Network:\n",
        "\n",
        "  def __init__(self, num_input=3, num_hidden=[3, 5],num_output=2):\n",
        "    self.num_input = num_input\n",
        "    self.num_hidden = num_hidden\n",
        "    self.num_output = num_output\n",
        "\n",
        "    layers = [self.num_input] + self.num_hidden +[self.num_output]\n",
        "    \n",
        "    #inititate a random weight ( Cold Start )\n",
        "    self.weights = []\n",
        "    for i in range(len(layers)-1):\n",
        "      w = np.random.rand(layers[i],layers[i+1])\n",
        "      self.weights.append(w)\n",
        "  \n",
        "  def forward_propagate(self,inputs):\n",
        "    ''' \n",
        "    Forward Propataion\n",
        "    '''\n",
        "    activations = inputs\n",
        "    for w in self.weights:\n",
        "      #calculate net inputs\n",
        "      net_inputs = np.dot(activations,w)\n",
        "      #calculate the activations\n",
        "      activations = self._sigmoid(net_inputs)\n",
        "    return  activations\n",
        "  \n",
        "  def _sigmoid(self,x):\n",
        "    return 1 /(1 + np.exp(-x))\n",
        "\n",
        "if __name__ == '__main__':\n",
        "  #create a Neural Network\n",
        "  nn = Neural_Network()\n",
        "  # create some inputs\n",
        "  inputs = np.random.rand(nn.num_input)\n",
        "  # perform forward prop\n",
        "  outputs = nn.forward_propagate(inputs)\n",
        "\n",
        "  # print the results\n",
        "  print(f'The network input is :{inputs}')\n",
        "  print(f'The network output is :{outputs}')\n",
        "\n"
      ],
      "execution_count": 10,
      "outputs": [
        {
          "output_type": "stream",
          "text": [
            "The network input is :[0.7994773  0.5269696  0.28147179]\n",
            "The network output is :[0.82717699 0.94360638]\n"
          ],
          "name": "stdout"
        }
      ]
    },
    {
      "cell_type": "code",
      "metadata": {
        "id": "fQppQKzLQyY0",
        "colab_type": "code",
        "colab": {}
      },
      "source": [
        ""
      ],
      "execution_count": 0,
      "outputs": []
    }
  ]
}