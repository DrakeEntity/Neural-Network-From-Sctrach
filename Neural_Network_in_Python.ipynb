{
  "nbformat": 4,
  "nbformat_minor": 0,
  "metadata": {
    "colab": {
      "name": "Neural Network in Python.ipynb",
      "provenance": [],
      "collapsed_sections": [],
      "authorship_tag": "ABX9TyMLRCF1E4aab6rop95wfwf/",
      "include_colab_link": true
    },
    "kernelspec": {
      "name": "python3",
      "display_name": "Python 3"
    }
  },
  "cells": [
    {
      "cell_type": "markdown",
      "metadata": {
        "id": "view-in-github",
        "colab_type": "text"
      },
      "source": [
        "<a href=\"https://colab.research.google.com/github/aayushi-droid/Neural-Network-From-Sctrach/blob/master/Neural_Network_in_Python.ipynb\" target=\"_parent\"><img src=\"https://colab.research.google.com/assets/colab-badge.svg\" alt=\"Open In Colab\"/></a>"
      ]
    },
    {
      "cell_type": "code",
      "metadata": {
        "id": "YDHAwDG1Wrwz",
        "colab_type": "code",
        "colab": {}
      },
      "source": [
        "import numpy as np"
      ],
      "execution_count": 0,
      "outputs": []
    },
    {
      "cell_type": "code",
      "metadata": {
        "id": "qC2p2NVVXkvA",
        "colab_type": "code",
        "colab": {}
      },
      "source": [
        "import pandas as pd"
      ],
      "execution_count": 0,
      "outputs": []
    },
    {
      "cell_type": "code",
      "metadata": {
        "id": "YkCejNPQYUIf",
        "colab_type": "code",
        "colab": {}
      },
      "source": [
        "def sigmoid(z):\n",
        "  return 1 / (1 + np.exp(-z))"
      ],
      "execution_count": 0,
      "outputs": []
    },
    {
      "cell_type": "code",
      "metadata": {
        "id": "zvJax1OxYd_k",
        "colab_type": "code",
        "colab": {}
      },
      "source": [
        "def feed_forward(a,w,b):\n",
        "  num_of_input_neurons = a.shape[0]\n",
        "  num_of_output_neurons = w.shape[0]\n",
        "\n",
        "  Z = np.zeros( (num_of_output_neurons,1) )\n",
        "  A = np.zeros( (num_of_output_neurons,1) )\n",
        "\n",
        "#Loop for each neurons to activations\n",
        "  for a_idx in range(num_of_output_neurons):\n",
        "    for w_idx in range(num_of_input_neurons):\n",
        "      z[a_idx] += ( a[w_idx]) * w[a_idx][w_idx] )\n",
        "    \n",
        "    z[a_idx] += b[a_idx]"
      ],
      "execution_count": 0,
      "outputs": []
    }
  ]
}